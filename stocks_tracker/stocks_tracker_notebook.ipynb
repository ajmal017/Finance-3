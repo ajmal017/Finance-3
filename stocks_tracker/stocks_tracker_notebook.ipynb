{
 "cells": [
  {
   "cell_type": "code",
   "execution_count": 1,
   "metadata": {},
   "outputs": [],
   "source": [
    "import investpy as ivp\n",
    "import pandas as pd"
   ]
  },
  {
   "cell_type": "code",
   "execution_count": 41,
   "metadata": {},
   "outputs": [],
   "source": [
    "minha_carteira = {\n",
    "    '28-01-20':['cmig4', 'compra', 15.23, 39],\n",
    "    '29-01-20':['petr4', 'compra', 28.15, 7],\n",
    "    '05-02-20':['slce3', 'compra', 23.5, 25],\n",
    "    '06-02-20':['vvar3', 'compra', 14.93, 5],\n",
    "    '26-02-20':['bpan4', 'compra', 9.89, 8],\n",
    "    '26-02-20':['tots3', 'compra', 81.64, 14],\n",
    "    '26-02-20':['cmig4', 'venda', 14.70, 39],\n",
    "    '26-02-20':['slce3', 'venda', 22.83, 25]\n",
    "}\n",
    "minha_carteira = pd.DataFrame().from_dict(minha_carteira, orient='index', columns = ['ativo', 'operacao', 'pu', 'qtd'])\n",
    "minha_carteira.index = pd.to_datetime(minha_carteira.index.rename('Dt_operacao'), format = '%d-%m-%y')"
   ]
  },
  {
   "cell_type": "code",
   "execution_count": 2,
   "metadata": {},
   "outputs": [
    {
     "data": {
      "text/plain": [
       "527.8000000000001"
      ]
     },
     "execution_count": 2,
     "metadata": {},
     "output_type": "execute_result"
    }
   ],
   "source": [
    "81.64*14 - 43.94*14"
   ]
  },
  {
   "cell_type": "code",
   "execution_count": 23,
   "metadata": {},
   "outputs": [],
   "source": [
    "minha_carteira.columns = "
   ]
  },
  {
   "cell_type": "code",
   "execution_count": 19,
   "metadata": {},
   "outputs": [],
   "source": [
    "minha_carteira.index = minha_carteira"
   ]
  },
  {
   "cell_type": "code",
   "execution_count": 9,
   "metadata": {},
   "outputs": [
    {
     "data": {
      "text/html": [
       "<div>\n",
       "<style scoped>\n",
       "    .dataframe tbody tr th:only-of-type {\n",
       "        vertical-align: middle;\n",
       "    }\n",
       "\n",
       "    .dataframe tbody tr th {\n",
       "        vertical-align: top;\n",
       "    }\n",
       "\n",
       "    .dataframe thead th {\n",
       "        text-align: right;\n",
       "    }\n",
       "</style>\n",
       "<table border=\"1\" class=\"dataframe\">\n",
       "  <thead>\n",
       "    <tr style=\"text-align: right;\">\n",
       "      <th></th>\n",
       "      <th>Open</th>\n",
       "      <th>High</th>\n",
       "      <th>Low</th>\n",
       "      <th>Close</th>\n",
       "      <th>Volume</th>\n",
       "      <th>Currency</th>\n",
       "    </tr>\n",
       "    <tr>\n",
       "      <th>Date</th>\n",
       "      <th></th>\n",
       "      <th></th>\n",
       "      <th></th>\n",
       "      <th></th>\n",
       "      <th></th>\n",
       "      <th></th>\n",
       "    </tr>\n",
       "  </thead>\n",
       "  <tbody>\n",
       "    <tr>\n",
       "      <th>2018-01-01</th>\n",
       "      <td>10.03</td>\n",
       "      <td>10.21</td>\n",
       "      <td>9.72</td>\n",
       "      <td>9.83</td>\n",
       "      <td>14856800</td>\n",
       "      <td>BRL</td>\n",
       "    </tr>\n",
       "    <tr>\n",
       "      <th>2018-01-02</th>\n",
       "      <td>9.79</td>\n",
       "      <td>10.09</td>\n",
       "      <td>9.61</td>\n",
       "      <td>9.71</td>\n",
       "      <td>10346400</td>\n",
       "      <td>BRL</td>\n",
       "    </tr>\n",
       "    <tr>\n",
       "      <th>2018-01-03</th>\n",
       "      <td>9.92</td>\n",
       "      <td>9.98</td>\n",
       "      <td>9.83</td>\n",
       "      <td>9.94</td>\n",
       "      <td>11984000</td>\n",
       "      <td>BRL</td>\n",
       "    </tr>\n",
       "    <tr>\n",
       "      <th>2018-01-04</th>\n",
       "      <td>9.97</td>\n",
       "      <td>10.03</td>\n",
       "      <td>9.71</td>\n",
       "      <td>9.74</td>\n",
       "      <td>7671200</td>\n",
       "      <td>BRL</td>\n",
       "    </tr>\n",
       "    <tr>\n",
       "      <th>2018-01-07</th>\n",
       "      <td>9.73</td>\n",
       "      <td>9.93</td>\n",
       "      <td>9.71</td>\n",
       "      <td>9.74</td>\n",
       "      <td>7199200</td>\n",
       "      <td>BRL</td>\n",
       "    </tr>\n",
       "    <tr>\n",
       "      <th>...</th>\n",
       "      <td>...</td>\n",
       "      <td>...</td>\n",
       "      <td>...</td>\n",
       "      <td>...</td>\n",
       "      <td>...</td>\n",
       "      <td>...</td>\n",
       "    </tr>\n",
       "    <tr>\n",
       "      <th>2019-03-25</th>\n",
       "      <td>21.81</td>\n",
       "      <td>22.02</td>\n",
       "      <td>21.67</td>\n",
       "      <td>22.02</td>\n",
       "      <td>6088000</td>\n",
       "      <td>BRL</td>\n",
       "    </tr>\n",
       "    <tr>\n",
       "      <th>2019-03-26</th>\n",
       "      <td>21.83</td>\n",
       "      <td>21.83</td>\n",
       "      <td>20.75</td>\n",
       "      <td>20.95</td>\n",
       "      <td>12636000</td>\n",
       "      <td>BRL</td>\n",
       "    </tr>\n",
       "    <tr>\n",
       "      <th>2019-03-27</th>\n",
       "      <td>21.08</td>\n",
       "      <td>21.51</td>\n",
       "      <td>20.60</td>\n",
       "      <td>21.30</td>\n",
       "      <td>11179200</td>\n",
       "      <td>BRL</td>\n",
       "    </tr>\n",
       "    <tr>\n",
       "      <th>2019-03-28</th>\n",
       "      <td>21.48</td>\n",
       "      <td>21.69</td>\n",
       "      <td>21.33</td>\n",
       "      <td>21.56</td>\n",
       "      <td>5718400</td>\n",
       "      <td>BRL</td>\n",
       "    </tr>\n",
       "    <tr>\n",
       "      <th>2019-03-31</th>\n",
       "      <td>21.70</td>\n",
       "      <td>21.79</td>\n",
       "      <td>21.36</td>\n",
       "      <td>21.36</td>\n",
       "      <td>4003200</td>\n",
       "      <td>BRL</td>\n",
       "    </tr>\n",
       "  </tbody>\n",
       "</table>\n",
       "<p>306 rows × 6 columns</p>\n",
       "</div>"
      ],
      "text/plain": [
       "             Open   High    Low  Close    Volume Currency\n",
       "Date                                                     \n",
       "2018-01-01  10.03  10.21   9.72   9.83  14856800      BRL\n",
       "2018-01-02   9.79  10.09   9.61   9.71  10346400      BRL\n",
       "2018-01-03   9.92   9.98   9.83   9.94  11984000      BRL\n",
       "2018-01-04   9.97  10.03   9.71   9.74   7671200      BRL\n",
       "2018-01-07   9.73   9.93   9.71   9.74   7199200      BRL\n",
       "...           ...    ...    ...    ...       ...      ...\n",
       "2019-03-25  21.81  22.02  21.67  22.02   6088000      BRL\n",
       "2019-03-26  21.83  21.83  20.75  20.95  12636000      BRL\n",
       "2019-03-27  21.08  21.51  20.60  21.30  11179200      BRL\n",
       "2019-03-28  21.48  21.69  21.33  21.56   5718400      BRL\n",
       "2019-03-31  21.70  21.79  21.36  21.36   4003200      BRL\n",
       "\n",
       "[306 rows x 6 columns]"
      ]
     },
     "execution_count": 9,
     "metadata": {},
     "output_type": "execute_result"
    }
   ],
   "source": [
    "ivp.get_stock_historical_data(stock = 'mglu3', country = 'brazil', from_date='01/01/2018', to_date='01/04/2019')"
   ]
  }
 ],
 "metadata": {
  "kernelspec": {
   "display_name": "env_finance",
   "language": "python",
   "name": "env_finance"
  },
  "language_info": {
   "codemirror_mode": {
    "name": "ipython",
    "version": 3
   },
   "file_extension": ".py",
   "mimetype": "text/x-python",
   "name": "python",
   "nbconvert_exporter": "python",
   "pygments_lexer": "ipython3",
   "version": "3.7.7"
  }
 },
 "nbformat": 4,
 "nbformat_minor": 4
}
